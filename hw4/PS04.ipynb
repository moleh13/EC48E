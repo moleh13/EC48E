{
 "cells": [
  {
   "cell_type": "code",
   "execution_count": 7,
   "metadata": {},
   "outputs": [],
   "source": [
    "# Import libraries to use logistic regression\n",
    "import numpy as np\n",
    "import pandas as pd\n",
    "from sklearn import linear_model\n",
    "from sklearn.model_selection import train_test_split\n",
    "from sklearn.metrics import mean_squared_error\n",
    "from sklearn.metrics import r2_score\n",
    "from sklearn.metrics import accuracy_score\n",
    "from sklearn.metrics import confusion_matrix\n",
    "from sklearn.metrics import classification_report\n",
    "from sklearn.metrics import roc_auc_score\n",
    "from sklearn.metrics import roc_curve\n",
    "import matplotlib.pyplot as plt\n",
    "from sklearn.model_selection import LeaveOneOut\n",
    "from sklearn.metrics import roc_auc_score\n",
    "from sklearn.metrics import roc_curve\n",
    "import matplotlib.pyplot as plt\n"
   ]
  },
  {
   "cell_type": "code",
   "execution_count": 8,
   "metadata": {},
   "outputs": [],
   "source": [
    "credit_data = pd.read_csv('csv_files/credit.csv')"
   ]
  },
  {
   "cell_type": "code",
   "execution_count": 9,
   "metadata": {},
   "outputs": [],
   "source": [
    "credit_data = credit_data.drop(columns=['Unnamed: 0'])"
   ]
  },
  {
   "cell_type": "code",
   "execution_count": 10,
   "metadata": {},
   "outputs": [],
   "source": [
    "# Run logistic regression using WC/TA, RE/TA, EBIT/TA, ME/TL, S/TA with 50% benchmark\n",
    "X = credit_data[['WC/TA', 'RE/TA', 'EBIT/TA', 'ME/TL', 'S/TA']]\n",
    "y = credit_data['Default']\n",
    "\n",
    "weight_for_0 = 0.5  # Weight for the non-default class\n",
    "weight_for_1 = 0.5  # Weight for the default class\n",
    "\n",
    "class_weights = {0: weight_for_0, 1: weight_for_1}\n",
    "\n",
    "X_train, X_test, y_train, y_test = train_test_split(X, y, test_size=0.1, random_state=42)\n",
    "\n",
    "logistic = linear_model.LogisticRegression(class_weight=class_weights)\n",
    "logistic.fit(X_train, y_train)\n",
    "y_pred = logistic.predict(X_train)\n"
   ]
  },
  {
   "cell_type": "code",
   "execution_count": 11,
   "metadata": {},
   "outputs": [
    {
     "name": "stdout",
     "output_type": "stream",
     "text": [
      "R2 Score: -0.06891403426056897\n",
      "Accuracy Score: 0.9088191330343797\n",
      "Confusion Matrix: [[600   6]\n",
      " [ 55   8]]\n"
     ]
    }
   ],
   "source": [
    "print('R2 Score:', r2_score(y_train, y_pred))\n",
    "print('Accuracy Score:', accuracy_score(y_train, y_pred))\n",
    "print('Confusion Matrix:', confusion_matrix(y_train, y_pred))"
   ]
  },
  {
   "cell_type": "code",
   "execution_count": 12,
   "metadata": {},
   "outputs": [
    {
     "data": {
      "image/png": "[encoded data removed]",
      "text/plain": [
       "<Figure size 432x288 with 1 Axes>"
      ]
     },
     "metadata": {
      "needs_background": "light"
     },
     "output_type": "display_data"
    },
    {
     "name": "stdout",
     "output_type": "stream",
     "text": [
      "ROC AUC Score: 0.8631934622033632\n"
     ]
    }
   ],
   "source": [
    "# Create ROC Curve\n",
    "y_pred_proba = logistic.predict_proba(X_train)[:,1]\n",
    "fpr, tpr, thresholds = roc_curve(y_train, y_pred_proba)\n",
    "plt.plot([0,1],[0,1],'k--')\n",
    "plt.plot(fpr,tpr, label='Logistic Regression')\n",
    "plt.xlabel('False Positive Rate')\n",
    "plt.ylabel('True Positive Rate')\n",
    "plt.title('ROC Curve')\n",
    "plt.show()\n",
    "\n",
    "# Print ROC Curve Statistics\n",
    "print('ROC AUC Score:', roc_auc_score(y_train, y_pred_proba))"
   ]
  },
  {
   "cell_type": "code",
   "execution_count": 13,
   "metadata": {},
   "outputs": [
    {
     "name": "stdout",
     "output_type": "stream",
     "text": [
      "Test Truth Table\n",
      "Accuracy Score: 0.9066666666666666\n",
      "Confusion Matrix: [[67  1]\n",
      " [ 6  1]]\n"
     ]
    },
    {
     "data": {
      "image/png": "[encoded data removed]",
      "text/plain": [
       "<Figure size 432x288 with 1 Axes>"
      ]
     },
     "metadata": {
      "needs_background": "light"
     },
     "output_type": "display_data"
    },
    {
     "name": "stdout",
     "output_type": "stream",
     "text": [
      "ROC AUC Score: 0.9537815126050421\n"
     ]
    }
   ],
   "source": [
    "y_pred_test = logistic.predict(X_test)\n",
    "\n",
    "# Calculate truth table for test\n",
    "print('Test Truth Table')\n",
    "print('Accuracy Score:', accuracy_score(y_test, y_pred_test))\n",
    "print('Confusion Matrix:', confusion_matrix(y_test, y_pred_test))\n",
    "\n",
    "# Create ROC Curve for test\n",
    "y_pred_proba = logistic.predict_proba(X_test)[:,1]\n",
    "fpr, tpr, thresholds = roc_curve(y_test, y_pred_proba)\n",
    "plt.plot([0,1],[0,1],'k--')\n",
    "plt.plot(fpr,tpr, label='Logistic Regression')\n",
    "plt.xlabel('False Positive Rate')\n",
    "plt.ylabel('True Positive Rate')\n",
    "plt.title('ROC Curve')\n",
    "plt.show()\n",
    "\n",
    "# Print ROC Curve Statistics\n",
    "print('ROC AUC Score:', roc_auc_score(y_test, y_pred_proba))\n"
   ]
  },
  {
   "cell_type": "code",
   "execution_count": 14,
   "metadata": {},
   "outputs": [
    {
     "name": "stdout",
     "output_type": "stream",
     "text": [
      "Accuracy: 0.907258064516129\n",
      "Confusion Matrix:\n",
      "[[667   7]\n",
      " [ 62   8]]\n",
      "ROC AUC Score: 0.873908435777872\n"
     ]
    }
   ],
   "source": [
    "from sklearn.model_selection import LeaveOneOut\n",
    "\n",
    "loo = LeaveOneOut()\n",
    "\n",
    "# Initialize lists to store predictions and actual labels\n",
    "predictions = []\n",
    "true_labels = []\n",
    "\n",
    "# Iterate through each training and testing set from LOOCV\n",
    "for train_index, test_index in loo.split(X):\n",
    "    X_train, X_test = X.iloc[train_index], X.iloc[test_index]\n",
    "    y_train, y_test = y.iloc[train_index], y.iloc[test_index]\n",
    "\n",
    "    # Fit the logistic regression model\n",
    "    logistic = linear_model.LogisticRegression(class_weight=class_weights)\n",
    "    logistic.fit(X_train, y_train)\n",
    "\n",
    "    # Predict the labels for the test set\n",
    "    y_pred = logistic.predict(X_test)\n",
    "\n",
    "    # Store the predictions and true labels\n",
    "    predictions.append(y_pred)\n",
    "    true_labels.append(y_test.values[0])\n",
    "\n",
    "# Convert lists to arrays for easier manipulation\n",
    "predictions = np.array(predictions)\n",
    "true_labels = np.array(true_labels)\n",
    "\n",
    "# Calculate accuracy\n",
    "accuracy = accuracy_score(true_labels, predictions)\n",
    "\n",
    "# Calculate confusion matrix\n",
    "conf_matrix = confusion_matrix(true_labels, predictions)\n",
    "\n",
    "# Print results\n",
    "print(\"Accuracy:\", accuracy)\n",
    "print(\"Confusion Matrix:\")\n",
    "print(conf_matrix)\n",
    "\n",
    "# Calculate ROC AUC score\n",
    "y_pred_proba = logistic.predict_proba(X)[:,1]\n",
    "roc_auc = roc_auc_score(y, y_pred_proba)\n",
    "print(\"ROC AUC Score:\", roc_auc)"
   ]
  },
  {
   "cell_type": "code",
   "execution_count": 15,
   "metadata": {},
   "outputs": [
    {
     "name": "stdout",
     "output_type": "stream",
     "text": [
      "Accuracy: 0.8978494623655914\n",
      "Confusion Matrix:\n",
      "[[667   7]\n",
      " [ 69   1]]\n",
      "ROC AUC Score: 0.8762611275964391\n"
     ]
    }
   ],
   "source": [
    "from sklearn.model_selection import KFold\n",
    "\n",
    "# Define the number of folds\n",
    "k = 10\n",
    "\n",
    "# Initialize lists to store predictions and actual labels\n",
    "predictions = []\n",
    "true_labels = []\n",
    "\n",
    "# Initialize KFold\n",
    "kf = KFold(n_splits=k)\n",
    "\n",
    "# Iterate through each fold\n",
    "for train_index, test_index in kf.split(X):\n",
    "    X_train, X_test = X.iloc[train_index], X.iloc[test_index]\n",
    "    y_train, y_test = y.iloc[train_index], y.iloc[test_index]\n",
    "\n",
    "    # Fit the logistic regression model\n",
    "    logistic = linear_model.LogisticRegression(class_weight=class_weights)\n",
    "    logistic.fit(X_train, y_train)\n",
    "\n",
    "    # Predict the labels for the test set\n",
    "    y_pred = logistic.predict(X_test)\n",
    "\n",
    "    # Store the predictions and true labels\n",
    "    predictions.extend(y_pred)\n",
    "    true_labels.extend(y_test)\n",
    "\n",
    "# Convert lists to arrays for easier manipulation\n",
    "predictions = np.array(predictions)\n",
    "true_labels = np.array(true_labels)\n",
    "\n",
    "# Calculate accuracy\n",
    "accuracy = accuracy_score(true_labels, predictions)\n",
    "\n",
    "# Calculate confusion matrix\n",
    "conf_matrix = confusion_matrix(true_labels, predictions)\n",
    "\n",
    "# Print results\n",
    "print(\"Accuracy:\", accuracy)\n",
    "print(\"Confusion Matrix:\")\n",
    "print(conf_matrix)\n",
    "\n",
    "# Calculate ROC AUC score\n",
    "y_pred_proba = logistic.predict_proba(X)[:,1]\n",
    "roc_auc = roc_auc_score(y, y_pred_proba)\n",
    "print(\"ROC AUC Score:\", roc_auc)"
   ]
  },
  {
   "cell_type": "code",
   "execution_count": 16,
   "metadata": {},
   "outputs": [
    {
     "name": "stdout",
     "output_type": "stream",
     "text": [
      "\n",
      "Best Subset Regression using BIC:\n",
      "BIC: 365.72154205076663\n",
      "Variables: ('RE/TA', 'ME/TL')\n",
      "                           Logit Regression Results                           \n",
      "==============================================================================\n",
      "Dep. Variable:                Default   No. Observations:                  744\n",
      "Model:                          Logit   Df Residuals:                      741\n",
      "Method:                           MLE   Df Model:                            2\n",
      "Date:                Tue, 14 May 2024   Pseudo R-squ.:                  0.2547\n",
      "Time:                        18:29:04   Log-Likelihood:                -172.94\n",
      "converged:                       True   LL-Null:                       -232.05\n",
      "Covariance Type:            nonrobust   LLR p-value:                 2.145e-26\n",
      "==============================================================================\n",
      "                 coef    std err          z      P>|z|      [0.025      0.975]\n",
      "------------------------------------------------------------------------------\n",
      "const         -0.8320      0.235     -3.543      0.000      -1.292      -0.372\n",
      "RE/TA         -1.1031      0.288     -3.825      0.000      -1.668      -0.538\n",
      "ME/TL         -1.7026      0.315     -5.408      0.000      -2.320      -1.086\n",
      "==============================================================================\n"
     ]
    }
   ],
   "source": [
    "import itertools\n",
    "import pandas as pd\n",
    "import statsmodels.api as sm\n",
    "\n",
    "# Function to perform Best Subset Regression\n",
    "def best_subset_regression(X, y, criterion='aic'):\n",
    "    results = []\n",
    "    for k in range(1, len(X.columns) + 1):\n",
    "        subsets = itertools.combinations(X.columns, k)\n",
    "        for subset in subsets:\n",
    "            model = sm.Logit(y, sm.add_constant(X[list(subset)])).fit(disp=0)\n",
    "            if criterion == 'aic':\n",
    "                results.append((model, model.aic, subset))\n",
    "            elif criterion == 'bic':\n",
    "                results.append((model, model.bic, subset))\n",
    "    \n",
    "    # Select the model with the minimum AIC/BIC\n",
    "    best_model = min(results, key=lambda x: x[1])\n",
    "    return best_model\n",
    "\n",
    "# Perform Best Subset Regression using BIC\n",
    "best_model_bic = best_subset_regression(X, y, criterion='bic')\n",
    "print(\"\\nBest Subset Regression using BIC:\")\n",
    "print(\"BIC:\", best_model_bic[1])\n",
    "print(\"Variables:\", best_model_bic[2])\n",
    "print(best_model_bic[0].summary())\n"
   ]
  },
  {
   "cell_type": "markdown",
   "metadata": {},
   "source": [
    "# Part B"
   ]
  },
  {
   "cell_type": "code",
   "execution_count": 20,
   "metadata": {},
   "outputs": [
    {
     "name": "stdout",
     "output_type": "stream",
     "text": [
      "Confusion Matrix for Fold 1:\n",
      "[[65  0]\n",
      " [ 2  0]]\n",
      "Confusion Matrix for Fold 2:\n",
      "[[62  0]\n",
      " [ 5  0]]\n",
      "Confusion Matrix for Fold 3:\n",
      "[[66  0]\n",
      " [ 1  0]]\n",
      "Confusion Matrix for Fold 4:\n",
      "[[65  0]\n",
      " [ 2  0]]\n",
      "Confusion Matrix for Fold 5:\n",
      "[[65  0]\n",
      " [ 2  0]]\n",
      "Confusion Matrix for Fold 6:\n",
      "[[65  0]\n",
      " [ 2  0]]\n",
      "Confusion Matrix for Fold 7:\n",
      "[[63  0]\n",
      " [ 4  0]]\n",
      "Confusion Matrix for Fold 8:\n",
      "[[62  0]\n",
      " [ 5  0]]\n",
      "Confusion Matrix for Fold 9:\n",
      "[[65  0]\n",
      " [ 2  0]]\n",
      "Confusion Matrix for Fold 10:\n",
      "[[63  0]\n",
      " [ 4  0]]\n"
     ]
    }
   ],
   "source": [
    "from sklearn.model_selection import cross_val_predict, GridSearchCV\n",
    "from sklearn.metrics import confusion_matrix, roc_curve, roc_auc_score, mean_squared_error, r2_score\n",
    "from sklearn.linear_model import Ridge, Lasso, ElasticNet, ElasticNetCV\n",
    "import numpy as np\n",
    "\n",
    "k = 10\n",
    "\n",
    "# Fit Ridge regression\n",
    "ridge = Ridge()\n",
    "ridge_params = {'alpha': np.logspace(-4, 4, 100)}\n",
    "ridge_cv = GridSearchCV(ridge, ridge_params, cv=10)\n",
    "ridge_cv.fit(X_train, y_train)\n",
    "ridge_best_alpha = ridge_cv.best_params_['alpha']\n",
    "ridge_best_model = Ridge(alpha=ridge_best_alpha)\n",
    "ridge_best_model.fit(X_train, y_train)\n",
    "\n",
    "# Perform 10-fold cross-validation and obtain predicted values for each fold\n",
    "ridge_cv_preds = cross_val_predict(ridge, X_train, y_train, cv=k)\n",
    "\n",
    "# Initialize an empty list to store confusion matrices for each fold\n",
    "conf_matrices = []\n",
    "\n",
    "# Calculate confusion matrix for each fold\n",
    "for fold in range(k):\n",
    "    # Extract predictions and true labels for the current fold\n",
    "    fold_preds = ridge_cv_preds[fold*len(X_train)//k : (fold+1)*len(X_train)//k]\n",
    "    fold_true_labels = y_train[fold*len(X_train)//k : (fold+1)*len(X_train)//k]\n",
    "    \n",
    "    # Calculate confusion matrix for the current fold\n",
    "    conf_matrix = confusion_matrix(fold_true_labels, (fold_preds > 0.5).astype(int))  # Assuming binary classification\n",
    "    \n",
    "    # Append the confusion matrix to the list\n",
    "    conf_matrices.append(conf_matrix)\n",
    "\n",
    "# Print confusion matrices for each fold\n",
    "for fold, conf_matrix in enumerate(conf_matrices):\n",
    "    print(f\"Confusion Matrix for Fold {fold+1}:\")\n",
    "    print(conf_matrix)"
   ]
  },
  {
   "cell_type": "code",
   "execution_count": 21,
   "metadata": {},
   "outputs": [
    {
     "name": "stdout",
     "output_type": "stream",
     "text": [
      "Confusion Matrix for LASSO, Fold 1:\n",
      "[[65  0]\n",
      " [ 2  0]]\n",
      "Confusion Matrix for LASSO, Fold 2:\n",
      "[[62  0]\n",
      " [ 5  0]]\n",
      "Confusion Matrix for LASSO, Fold 3:\n",
      "[[66  0]\n",
      " [ 1  0]]\n",
      "Confusion Matrix for LASSO, Fold 4:\n",
      "[[65  0]\n",
      " [ 2  0]]\n",
      "Confusion Matrix for LASSO, Fold 5:\n",
      "[[64  1]\n",
      " [ 2  0]]\n",
      "Confusion Matrix for LASSO, Fold 6:\n",
      "[[65  0]\n",
      " [ 2  0]]\n",
      "Confusion Matrix for LASSO, Fold 7:\n",
      "[[63  0]\n",
      " [ 4  0]]\n",
      "Confusion Matrix for LASSO, Fold 8:\n",
      "[[62  0]\n",
      " [ 5  0]]\n",
      "Confusion Matrix for LASSO, Fold 9:\n",
      "[[65  0]\n",
      " [ 2  0]]\n",
      "Confusion Matrix for LASSO, Fold 10:\n",
      "[[63  0]\n",
      " [ 4  0]]\n"
     ]
    }
   ],
   "source": [
    "from sklearn.model_selection import cross_val_predict, GridSearchCV\n",
    "from sklearn.metrics import confusion_matrix\n",
    "from sklearn.linear_model import Lasso, ElasticNet\n",
    "import numpy as np\n",
    "\n",
    "k = 10\n",
    "\n",
    "# Fit LASSO regression\n",
    "lasso = Lasso()\n",
    "lasso_params = {'alpha': np.logspace(-4, 4, 100)}\n",
    "lasso_cv = GridSearchCV(lasso, lasso_params, cv=k)\n",
    "lasso_cv.fit(X_train, y_train)\n",
    "lasso_best_alpha = lasso_cv.best_params_['alpha']\n",
    "lasso_best_model = Lasso(alpha=lasso_best_alpha)\n",
    "lasso_best_model.fit(X_train, y_train)\n",
    "\n",
    "# Perform k-fold cross-validation and obtain predicted values for each fold\n",
    "lasso_cv_preds = cross_val_predict(lasso_best_model, X_train, y_train, cv=k)\n",
    "\n",
    "# Initialize an empty list to store confusion matrices for each fold\n",
    "lasso_conf_matrices = []\n",
    "\n",
    "# Calculate confusion matrix for each fold\n",
    "for fold in range(k):\n",
    "    # Extract predictions and true labels for the current fold\n",
    "    fold_preds = lasso_cv_preds[fold*len(X_train)//k : (fold+1)*len(X_train)//k]\n",
    "    fold_true_labels = y_train[fold*len(X_train)//k : (fold+1)*len(X_train)//k]\n",
    "    \n",
    "    # Calculate confusion matrix for the current fold\n",
    "    conf_matrix = confusion_matrix(fold_true_labels, (fold_preds > 0.5).astype(int))  # Assuming binary classification\n",
    "    \n",
    "    # Append the confusion matrix to the list\n",
    "    lasso_conf_matrices.append(conf_matrix)\n",
    "\n",
    "# Print confusion matrices for LASSO regression\n",
    "for fold, conf_matrix in enumerate(lasso_conf_matrices):\n",
    "    print(f\"Confusion Matrix for LASSO, Fold {fold+1}:\")\n",
    "    print(conf_matrix)"
   ]
  },
  {
   "cell_type": "code",
   "execution_count": 22,
   "metadata": {},
   "outputs": [
    {
     "name": "stdout",
     "output_type": "stream",
     "text": [
      "Confusion Matrix for Elastic Net, Fold 1:\n",
      "[[65  0]\n",
      " [ 2  0]]\n",
      "Confusion Matrix for Elastic Net, Fold 2:\n",
      "[[62  0]\n",
      " [ 5  0]]\n",
      "Confusion Matrix for Elastic Net, Fold 3:\n",
      "[[66  0]\n",
      " [ 1  0]]\n",
      "Confusion Matrix for Elastic Net, Fold 4:\n",
      "[[65  0]\n",
      " [ 2  0]]\n",
      "Confusion Matrix for Elastic Net, Fold 5:\n",
      "[[65  0]\n",
      " [ 2  0]]\n",
      "Confusion Matrix for Elastic Net, Fold 6:\n",
      "[[65  0]\n",
      " [ 2  0]]\n",
      "Confusion Matrix for Elastic Net, Fold 7:\n",
      "[[63  0]\n",
      " [ 4  0]]\n",
      "Confusion Matrix for Elastic Net, Fold 8:\n",
      "[[62  0]\n",
      " [ 5  0]]\n",
      "Confusion Matrix for Elastic Net, Fold 9:\n",
      "[[65  0]\n",
      " [ 2  0]]\n",
      "Confusion Matrix for Elastic Net, Fold 10:\n",
      "[[63  0]\n",
      " [ 4  0]]\n"
     ]
    }
   ],
   "source": [
    "# Fit Elastic Net regression\n",
    "elastic_net = ElasticNet()\n",
    "elastic_net_params = {'alpha': np.logspace(-4, 4, 100)}\n",
    "elastic_net_cv = GridSearchCV(elastic_net, elastic_net_params, cv=k)\n",
    "elastic_net_cv.fit(X_train, y_train)\n",
    "elastic_net_best_alpha = elastic_net_cv.best_params_['alpha']\n",
    "elastic_net_best_model = ElasticNet(alpha=elastic_net_best_alpha)\n",
    "elastic_net_best_model.fit(X_train, y_train)\n",
    "\n",
    "# Perform k-fold cross-validation and obtain predicted values for each fold\n",
    "elastic_net_cv_preds = cross_val_predict(elastic_net_best_model, X_train, y_train, cv=k)\n",
    "\n",
    "# Initialize an empty list to store confusion matrices for each fold\n",
    "elastic_net_conf_matrices = []\n",
    "\n",
    "# Calculate confusion matrix for each fold\n",
    "for fold in range(k):\n",
    "    # Extract predictions and true labels for the current fold\n",
    "    fold_preds = elastic_net_cv_preds[fold*len(X_train)//k : (fold+1)*len(X_train)//k]\n",
    "    fold_true_labels = y_train[fold*len(X_train)//k : (fold+1)*len(X_train)//k]\n",
    "    \n",
    "    # Calculate confusion matrix for the current fold\n",
    "    conf_matrix = confusion_matrix(fold_true_labels, (fold_preds > 0.5).astype(int))  # Assuming binary classification\n",
    "    \n",
    "    # Append the confusion matrix to the list\n",
    "    elastic_net_conf_matrices.append(conf_matrix)\n",
    "\n",
    "# Print confusion matrices for Elastic Net regression\n",
    "for fold, conf_matrix in enumerate(elastic_net_conf_matrices):\n",
    "    print(f\"Confusion Matrix for Elastic Net, Fold {fold+1}:\")\n",
    "    print(conf_matrix)"
   ]
  },
  {
   "cell_type": "code",
   "execution_count": 23,
   "metadata": {},
   "outputs": [
    {
     "ename": "AttributeError",
     "evalue": "'Ridge' object has no attribute 'decision_function'",
     "output_type": "error",
     "traceback": [
      "\u001b[0;31m---------------------------------------------------------------------------\u001b[0m",
      "\u001b[0;31mAttributeError\u001b[0m                            Traceback (most recent call last)",
      "\u001b[0;32m<ipython-input-23-ee84ae1374e4>\u001b[0m in \u001b[0;36m<module>\u001b[0;34m\u001b[0m\n\u001b[1;32m     16\u001b[0m \u001b[0;34m\u001b[0m\u001b[0m\n\u001b[1;32m     17\u001b[0m     \u001b[0;31m# Classification metrics\u001b[0m\u001b[0;34m\u001b[0m\u001b[0;34m\u001b[0m\u001b[0;34m\u001b[0m\u001b[0m\n\u001b[0;32m---> 18\u001b[0;31m     \u001b[0my_scores\u001b[0m \u001b[0;34m=\u001b[0m \u001b[0mcross_val_predict\u001b[0m\u001b[0;34m(\u001b[0m\u001b[0mmodel\u001b[0m\u001b[0;34m,\u001b[0m \u001b[0mX_train\u001b[0m\u001b[0;34m,\u001b[0m \u001b[0my_train\u001b[0m\u001b[0;34m,\u001b[0m \u001b[0mcv\u001b[0m\u001b[0;34m=\u001b[0m\u001b[0;36m10\u001b[0m\u001b[0;34m,\u001b[0m \u001b[0mmethod\u001b[0m\u001b[0;34m=\u001b[0m\u001b[0;34m\"decision_function\"\u001b[0m\u001b[0;34m)\u001b[0m\u001b[0;34m\u001b[0m\u001b[0;34m\u001b[0m\u001b[0m\n\u001b[0m\u001b[1;32m     19\u001b[0m     \u001b[0mfpr\u001b[0m\u001b[0;34m,\u001b[0m \u001b[0mtpr\u001b[0m\u001b[0;34m,\u001b[0m \u001b[0m_\u001b[0m \u001b[0;34m=\u001b[0m \u001b[0mroc_curve\u001b[0m\u001b[0;34m(\u001b[0m\u001b[0my_train\u001b[0m\u001b[0;34m,\u001b[0m \u001b[0my_scores\u001b[0m\u001b[0;34m)\u001b[0m\u001b[0;34m\u001b[0m\u001b[0;34m\u001b[0m\u001b[0m\n\u001b[1;32m     20\u001b[0m     \u001b[0mauc\u001b[0m \u001b[0;34m=\u001b[0m \u001b[0mroc_auc_score\u001b[0m\u001b[0;34m(\u001b[0m\u001b[0my_train\u001b[0m\u001b[0;34m,\u001b[0m \u001b[0my_scores\u001b[0m\u001b[0;34m)\u001b[0m\u001b[0;34m\u001b[0m\u001b[0;34m\u001b[0m\u001b[0m\n",
      "\u001b[0;32m~/opt/anaconda3/lib/python3.8/site-packages/sklearn/utils/validation.py\u001b[0m in \u001b[0;36minner_f\u001b[0;34m(*args, **kwargs)\u001b[0m\n\u001b[1;32m     61\u001b[0m             \u001b[0mextra_args\u001b[0m \u001b[0;34m=\u001b[0m \u001b[0mlen\u001b[0m\u001b[0;34m(\u001b[0m\u001b[0margs\u001b[0m\u001b[0;34m)\u001b[0m \u001b[0;34m-\u001b[0m \u001b[0mlen\u001b[0m\u001b[0;34m(\u001b[0m\u001b[0mall_args\u001b[0m\u001b[0;34m)\u001b[0m\u001b[0;34m\u001b[0m\u001b[0;34m\u001b[0m\u001b[0m\n\u001b[1;32m     62\u001b[0m             \u001b[0;32mif\u001b[0m \u001b[0mextra_args\u001b[0m \u001b[0;34m<=\u001b[0m \u001b[0;36m0\u001b[0m\u001b[0;34m:\u001b[0m\u001b[0;34m\u001b[0m\u001b[0;34m\u001b[0m\u001b[0m\n\u001b[0;32m---> 63\u001b[0;31m                 \u001b[0;32mreturn\u001b[0m \u001b[0mf\u001b[0m\u001b[0;34m(\u001b[0m\u001b[0;34m*\u001b[0m\u001b[0margs\u001b[0m\u001b[0;34m,\u001b[0m \u001b[0;34m**\u001b[0m\u001b[0mkwargs\u001b[0m\u001b[0;34m)\u001b[0m\u001b[0;34m\u001b[0m\u001b[0;34m\u001b[0m\u001b[0m\n\u001b[0m\u001b[1;32m     64\u001b[0m \u001b[0;34m\u001b[0m\u001b[0m\n\u001b[1;32m     65\u001b[0m             \u001b[0;31m# extra_args > 0\u001b[0m\u001b[0;34m\u001b[0m\u001b[0;34m\u001b[0m\u001b[0;34m\u001b[0m\u001b[0m\n",
      "\u001b[0;32m~/opt/anaconda3/lib/python3.8/site-packages/sklearn/model_selection/_validation.py\u001b[0m in \u001b[0;36mcross_val_predict\u001b[0;34m(estimator, X, y, groups, cv, n_jobs, verbose, fit_params, pre_dispatch, method)\u001b[0m\n\u001b[1;32m    864\u001b[0m     parallel = Parallel(n_jobs=n_jobs, verbose=verbose,\n\u001b[1;32m    865\u001b[0m                         pre_dispatch=pre_dispatch)\n\u001b[0;32m--> 866\u001b[0;31m     predictions = parallel(delayed(_fit_and_predict)(\n\u001b[0m\u001b[1;32m    867\u001b[0m         clone(estimator), X, y, train, test, verbose, fit_params, method)\n\u001b[1;32m    868\u001b[0m         for train, test in splits)\n",
      "\u001b[0;32m~/opt/anaconda3/lib/python3.8/site-packages/joblib/parallel.py\u001b[0m in \u001b[0;36m__call__\u001b[0;34m(self, iterable)\u001b[0m\n\u001b[1;32m   1039\u001b[0m             \u001b[0;31m# remaining jobs.\u001b[0m\u001b[0;34m\u001b[0m\u001b[0;34m\u001b[0m\u001b[0;34m\u001b[0m\u001b[0m\n\u001b[1;32m   1040\u001b[0m             \u001b[0mself\u001b[0m\u001b[0;34m.\u001b[0m\u001b[0m_iterating\u001b[0m \u001b[0;34m=\u001b[0m \u001b[0;32mFalse\u001b[0m\u001b[0;34m\u001b[0m\u001b[0;34m\u001b[0m\u001b[0m\n\u001b[0;32m-> 1041\u001b[0;31m             \u001b[0;32mif\u001b[0m \u001b[0mself\u001b[0m\u001b[0;34m.\u001b[0m\u001b[0mdispatch_one_batch\u001b[0m\u001b[0;34m(\u001b[0m\u001b[0miterator\u001b[0m\u001b[0;34m)\u001b[0m\u001b[0;34m:\u001b[0m\u001b[0;34m\u001b[0m\u001b[0;34m\u001b[0m\u001b[0m\n\u001b[0m\u001b[1;32m   1042\u001b[0m                 \u001b[0mself\u001b[0m\u001b[0;34m.\u001b[0m\u001b[0m_iterating\u001b[0m \u001b[0;34m=\u001b[0m \u001b[0mself\u001b[0m\u001b[0;34m.\u001b[0m\u001b[0m_original_iterator\u001b[0m \u001b[0;32mis\u001b[0m \u001b[0;32mnot\u001b[0m \u001b[0;32mNone\u001b[0m\u001b[0;34m\u001b[0m\u001b[0;34m\u001b[0m\u001b[0m\n\u001b[1;32m   1043\u001b[0m \u001b[0;34m\u001b[0m\u001b[0m\n",
      "\u001b[0;32m~/opt/anaconda3/lib/python3.8/site-packages/joblib/parallel.py\u001b[0m in \u001b[0;36mdispatch_one_batch\u001b[0;34m(self, iterator)\u001b[0m\n\u001b[1;32m    857\u001b[0m                 \u001b[0;32mreturn\u001b[0m \u001b[0;32mFalse\u001b[0m\u001b[0;34m\u001b[0m\u001b[0;34m\u001b[0m\u001b[0m\n\u001b[1;32m    858\u001b[0m             \u001b[0;32melse\u001b[0m\u001b[0;34m:\u001b[0m\u001b[0;34m\u001b[0m\u001b[0;34m\u001b[0m\u001b[0m\n\u001b[0;32m--> 859\u001b[0;31m                 \u001b[0mself\u001b[0m\u001b[0;34m.\u001b[0m\u001b[0m_dispatch\u001b[0m\u001b[0;34m(\u001b[0m\u001b[0mtasks\u001b[0m\u001b[0;34m)\u001b[0m\u001b[0;34m\u001b[0m\u001b[0;34m\u001b[0m\u001b[0m\n\u001b[0m\u001b[1;32m    860\u001b[0m                 \u001b[0;32mreturn\u001b[0m \u001b[0;32mTrue\u001b[0m\u001b[0;34m\u001b[0m\u001b[0;34m\u001b[0m\u001b[0m\n\u001b[1;32m    861\u001b[0m \u001b[0;34m\u001b[0m\u001b[0m\n",
      "\u001b[0;32m~/opt/anaconda3/lib/python3.8/site-packages/joblib/parallel.py\u001b[0m in \u001b[0;36m_dispatch\u001b[0;34m(self, batch)\u001b[0m\n\u001b[1;32m    775\u001b[0m         \u001b[0;32mwith\u001b[0m \u001b[0mself\u001b[0m\u001b[0;34m.\u001b[0m\u001b[0m_lock\u001b[0m\u001b[0;34m:\u001b[0m\u001b[0;34m\u001b[0m\u001b[0;34m\u001b[0m\u001b[0m\n\u001b[1;32m    776\u001b[0m             \u001b[0mjob_idx\u001b[0m \u001b[0;34m=\u001b[0m \u001b[0mlen\u001b[0m\u001b[0;34m(\u001b[0m\u001b[0mself\u001b[0m\u001b[0;34m.\u001b[0m\u001b[0m_jobs\u001b[0m\u001b[0;34m)\u001b[0m\u001b[0;34m\u001b[0m\u001b[0;34m\u001b[0m\u001b[0m\n\u001b[0;32m--> 777\u001b[0;31m             \u001b[0mjob\u001b[0m \u001b[0;34m=\u001b[0m \u001b[0mself\u001b[0m\u001b[0;34m.\u001b[0m\u001b[0m_backend\u001b[0m\u001b[0;34m.\u001b[0m\u001b[0mapply_async\u001b[0m\u001b[0;34m(\u001b[0m\u001b[0mbatch\u001b[0m\u001b[0;34m,\u001b[0m \u001b[0mcallback\u001b[0m\u001b[0;34m=\u001b[0m\u001b[0mcb\u001b[0m\u001b[0;34m)\u001b[0m\u001b[0;34m\u001b[0m\u001b[0;34m\u001b[0m\u001b[0m\n\u001b[0m\u001b[1;32m    778\u001b[0m             \u001b[0;31m# A job can complete so quickly than its callback is\u001b[0m\u001b[0;34m\u001b[0m\u001b[0;34m\u001b[0m\u001b[0;34m\u001b[0m\u001b[0m\n\u001b[1;32m    779\u001b[0m             \u001b[0;31m# called before we get here, causing self._jobs to\u001b[0m\u001b[0;34m\u001b[0m\u001b[0;34m\u001b[0m\u001b[0;34m\u001b[0m\u001b[0m\n",
      "\u001b[0;32m~/opt/anaconda3/lib/python3.8/site-packages/joblib/_parallel_backends.py\u001b[0m in \u001b[0;36mapply_async\u001b[0;34m(self, func, callback)\u001b[0m\n\u001b[1;32m    206\u001b[0m     \u001b[0;32mdef\u001b[0m \u001b[0mapply_async\u001b[0m\u001b[0;34m(\u001b[0m\u001b[0mself\u001b[0m\u001b[0;34m,\u001b[0m \u001b[0mfunc\u001b[0m\u001b[0;34m,\u001b[0m \u001b[0mcallback\u001b[0m\u001b[0;34m=\u001b[0m\u001b[0;32mNone\u001b[0m\u001b[0;34m)\u001b[0m\u001b[0;34m:\u001b[0m\u001b[0;34m\u001b[0m\u001b[0;34m\u001b[0m\u001b[0m\n\u001b[1;32m    207\u001b[0m         \u001b[0;34m\"\"\"Schedule a func to be run\"\"\"\u001b[0m\u001b[0;34m\u001b[0m\u001b[0;34m\u001b[0m\u001b[0m\n\u001b[0;32m--> 208\u001b[0;31m         \u001b[0mresult\u001b[0m \u001b[0;34m=\u001b[0m \u001b[0mImmediateResult\u001b[0m\u001b[0;34m(\u001b[0m\u001b[0mfunc\u001b[0m\u001b[0;34m)\u001b[0m\u001b[0;34m\u001b[0m\u001b[0;34m\u001b[0m\u001b[0m\n\u001b[0m\u001b[1;32m    209\u001b[0m         \u001b[0;32mif\u001b[0m \u001b[0mcallback\u001b[0m\u001b[0;34m:\u001b[0m\u001b[0;34m\u001b[0m\u001b[0;34m\u001b[0m\u001b[0m\n\u001b[1;32m    210\u001b[0m             \u001b[0mcallback\u001b[0m\u001b[0;34m(\u001b[0m\u001b[0mresult\u001b[0m\u001b[0;34m)\u001b[0m\u001b[0;34m\u001b[0m\u001b[0;34m\u001b[0m\u001b[0m\n",
      "\u001b[0;32m~/opt/anaconda3/lib/python3.8/site-packages/joblib/_parallel_backends.py\u001b[0m in \u001b[0;36m__init__\u001b[0;34m(self, batch)\u001b[0m\n\u001b[1;32m    570\u001b[0m         \u001b[0;31m# Don't delay the application, to avoid keeping the input\u001b[0m\u001b[0;34m\u001b[0m\u001b[0;34m\u001b[0m\u001b[0;34m\u001b[0m\u001b[0m\n\u001b[1;32m    571\u001b[0m         \u001b[0;31m# arguments in memory\u001b[0m\u001b[0;34m\u001b[0m\u001b[0;34m\u001b[0m\u001b[0;34m\u001b[0m\u001b[0m\n\u001b[0;32m--> 572\u001b[0;31m         \u001b[0mself\u001b[0m\u001b[0;34m.\u001b[0m\u001b[0mresults\u001b[0m \u001b[0;34m=\u001b[0m \u001b[0mbatch\u001b[0m\u001b[0;34m(\u001b[0m\u001b[0;34m)\u001b[0m\u001b[0;34m\u001b[0m\u001b[0;34m\u001b[0m\u001b[0m\n\u001b[0m\u001b[1;32m    573\u001b[0m \u001b[0;34m\u001b[0m\u001b[0m\n\u001b[1;32m    574\u001b[0m     \u001b[0;32mdef\u001b[0m \u001b[0mget\u001b[0m\u001b[0;34m(\u001b[0m\u001b[0mself\u001b[0m\u001b[0;34m)\u001b[0m\u001b[0;34m:\u001b[0m\u001b[0;34m\u001b[0m\u001b[0;34m\u001b[0m\u001b[0m\n",
      "\u001b[0;32m~/opt/anaconda3/lib/python3.8/site-packages/joblib/parallel.py\u001b[0m in \u001b[0;36m__call__\u001b[0;34m(self)\u001b[0m\n\u001b[1;32m    260\u001b[0m         \u001b[0;31m# change the default number of processes to -1\u001b[0m\u001b[0;34m\u001b[0m\u001b[0;34m\u001b[0m\u001b[0;34m\u001b[0m\u001b[0m\n\u001b[1;32m    261\u001b[0m         \u001b[0;32mwith\u001b[0m \u001b[0mparallel_backend\u001b[0m\u001b[0;34m(\u001b[0m\u001b[0mself\u001b[0m\u001b[0;34m.\u001b[0m\u001b[0m_backend\u001b[0m\u001b[0;34m,\u001b[0m \u001b[0mn_jobs\u001b[0m\u001b[0;34m=\u001b[0m\u001b[0mself\u001b[0m\u001b[0;34m.\u001b[0m\u001b[0m_n_jobs\u001b[0m\u001b[0;34m)\u001b[0m\u001b[0;34m:\u001b[0m\u001b[0;34m\u001b[0m\u001b[0;34m\u001b[0m\u001b[0m\n\u001b[0;32m--> 262\u001b[0;31m             return [func(*args, **kwargs)\n\u001b[0m\u001b[1;32m    263\u001b[0m                     for func, args, kwargs in self.items]\n\u001b[1;32m    264\u001b[0m \u001b[0;34m\u001b[0m\u001b[0m\n",
      "\u001b[0;32m~/opt/anaconda3/lib/python3.8/site-packages/joblib/parallel.py\u001b[0m in \u001b[0;36m<listcomp>\u001b[0;34m(.0)\u001b[0m\n\u001b[1;32m    260\u001b[0m         \u001b[0;31m# change the default number of processes to -1\u001b[0m\u001b[0;34m\u001b[0m\u001b[0;34m\u001b[0m\u001b[0;34m\u001b[0m\u001b[0m\n\u001b[1;32m    261\u001b[0m         \u001b[0;32mwith\u001b[0m \u001b[0mparallel_backend\u001b[0m\u001b[0;34m(\u001b[0m\u001b[0mself\u001b[0m\u001b[0;34m.\u001b[0m\u001b[0m_backend\u001b[0m\u001b[0;34m,\u001b[0m \u001b[0mn_jobs\u001b[0m\u001b[0;34m=\u001b[0m\u001b[0mself\u001b[0m\u001b[0;34m.\u001b[0m\u001b[0m_n_jobs\u001b[0m\u001b[0;34m)\u001b[0m\u001b[0;34m:\u001b[0m\u001b[0;34m\u001b[0m\u001b[0;34m\u001b[0m\u001b[0m\n\u001b[0;32m--> 262\u001b[0;31m             return [func(*args, **kwargs)\n\u001b[0m\u001b[1;32m    263\u001b[0m                     for func, args, kwargs in self.items]\n\u001b[1;32m    264\u001b[0m \u001b[0;34m\u001b[0m\u001b[0m\n",
      "\u001b[0;32m~/opt/anaconda3/lib/python3.8/site-packages/sklearn/utils/fixes.py\u001b[0m in \u001b[0;36m__call__\u001b[0;34m(self, *args, **kwargs)\u001b[0m\n\u001b[1;32m    220\u001b[0m     \u001b[0;32mdef\u001b[0m \u001b[0m__call__\u001b[0m\u001b[0;34m(\u001b[0m\u001b[0mself\u001b[0m\u001b[0;34m,\u001b[0m \u001b[0;34m*\u001b[0m\u001b[0margs\u001b[0m\u001b[0;34m,\u001b[0m \u001b[0;34m**\u001b[0m\u001b[0mkwargs\u001b[0m\u001b[0;34m)\u001b[0m\u001b[0;34m:\u001b[0m\u001b[0;34m\u001b[0m\u001b[0;34m\u001b[0m\u001b[0m\n\u001b[1;32m    221\u001b[0m         \u001b[0;32mwith\u001b[0m \u001b[0mconfig_context\u001b[0m\u001b[0;34m(\u001b[0m\u001b[0;34m**\u001b[0m\u001b[0mself\u001b[0m\u001b[0;34m.\u001b[0m\u001b[0mconfig\u001b[0m\u001b[0;34m)\u001b[0m\u001b[0;34m:\u001b[0m\u001b[0;34m\u001b[0m\u001b[0;34m\u001b[0m\u001b[0m\n\u001b[0;32m--> 222\u001b[0;31m             \u001b[0;32mreturn\u001b[0m \u001b[0mself\u001b[0m\u001b[0;34m.\u001b[0m\u001b[0mfunction\u001b[0m\u001b[0;34m(\u001b[0m\u001b[0;34m*\u001b[0m\u001b[0margs\u001b[0m\u001b[0;34m,\u001b[0m \u001b[0;34m**\u001b[0m\u001b[0mkwargs\u001b[0m\u001b[0;34m)\u001b[0m\u001b[0;34m\u001b[0m\u001b[0;34m\u001b[0m\u001b[0m\n\u001b[0m",
      "\u001b[0;32m~/opt/anaconda3/lib/python3.8/site-packages/sklearn/model_selection/_validation.py\u001b[0m in \u001b[0;36m_fit_and_predict\u001b[0;34m(estimator, X, y, train, test, verbose, fit_params, method)\u001b[0m\n\u001b[1;32m    945\u001b[0m     \u001b[0;32melse\u001b[0m\u001b[0;34m:\u001b[0m\u001b[0;34m\u001b[0m\u001b[0;34m\u001b[0m\u001b[0m\n\u001b[1;32m    946\u001b[0m         \u001b[0mestimator\u001b[0m\u001b[0;34m.\u001b[0m\u001b[0mfit\u001b[0m\u001b[0;34m(\u001b[0m\u001b[0mX_train\u001b[0m\u001b[0;34m,\u001b[0m \u001b[0my_train\u001b[0m\u001b[0;34m,\u001b[0m \u001b[0;34m**\u001b[0m\u001b[0mfit_params\u001b[0m\u001b[0;34m)\u001b[0m\u001b[0;34m\u001b[0m\u001b[0;34m\u001b[0m\u001b[0m\n\u001b[0;32m--> 947\u001b[0;31m     \u001b[0mfunc\u001b[0m \u001b[0;34m=\u001b[0m \u001b[0mgetattr\u001b[0m\u001b[0;34m(\u001b[0m\u001b[0mestimator\u001b[0m\u001b[0;34m,\u001b[0m \u001b[0mmethod\u001b[0m\u001b[0;34m)\u001b[0m\u001b[0;34m\u001b[0m\u001b[0;34m\u001b[0m\u001b[0m\n\u001b[0m\u001b[1;32m    948\u001b[0m     \u001b[0mpredictions\u001b[0m \u001b[0;34m=\u001b[0m \u001b[0mfunc\u001b[0m\u001b[0;34m(\u001b[0m\u001b[0mX_test\u001b[0m\u001b[0;34m)\u001b[0m\u001b[0;34m\u001b[0m\u001b[0;34m\u001b[0m\u001b[0m\n\u001b[1;32m    949\u001b[0m \u001b[0;34m\u001b[0m\u001b[0m\n",
      "\u001b[0;31mAttributeError\u001b[0m: 'Ridge' object has no attribute 'decision_function'"
     ]
    }
   ],
   "source": [
    "# Evaluate models\n",
    "models = {\n",
    "    'Ridge': ridge_best_model,\n",
    "    'LASSO': lasso_best_model,\n",
    "    'Elastic Net': elastic_net_best_model\n",
    "}\n",
    "\n",
    "results = {}\n",
    "\n",
    "for model_name, model in models.items():\n",
    "    # Regression metrics\n",
    "    y_pred = model.predict(X_test)\n",
    "    mse = mean_squared_error(y_test, y_pred)\n",
    "    r2 = r2_score(y_test, y_pred)\n",
    "\n",
    "\n",
    "    # Classification metrics\n",
    "    y_scores = cross_val_predict(model, X_train, y_train, cv=10, method=\"decision_function\")\n",
    "    fpr, tpr, _ = roc_curve(y_train, y_scores)\n",
    "    auc = roc_auc_score(y_train, y_scores)\n",
    "    conf_matrix = confusion_matrix(y_train, (y_scores > 0.5).astype(int))\n",
    "    \n",
    "    results[model_name] = {\n",
    "        'MSE': mse,\n",
    "        'R^2': r2,\n",
    "        'ROC AUC': auc,\n",
    "        'Confusion Matrix': conf_matrix,\n",
    "        'FPR': fpr,\n",
    "        'TPR': tpr\n",
    "    }\n",
    "\n",
    "# Output results\n",
    "for model_name, metrics in results.items():\n",
    "    print(f\"Metrics for {model_name}:\")\n",
    "    print(\"MSE:\", metrics['MSE'])\n",
    "    print(\"R^2:\", metrics['R^2'])\n",
    "    print(\"ROC AUC:\", metrics['ROC AUC'])\n",
    "    print(\"Confusion Matrix:\")\n",
    "    print(metrics['Confusion Matrix'])\n"
   ]
  }
 ],
 "metadata": {
  "kernelspec": {
   "display_name": "Python 3",
   "language": "python",
   "name": "python3"
  },
  "language_info": {
   "codemirror_mode": {
    "name": "ipython",
    "version": 3
   },
   "file_extension": ".py",
   "mimetype": "text/x-python",
   "name": "python",
   "nbconvert_exporter": "python",
   "pygments_lexer": "ipython3",
   "version": "3.8.8"
  }
 },
 "nbformat": 4,
 "nbformat_minor": 2
}
